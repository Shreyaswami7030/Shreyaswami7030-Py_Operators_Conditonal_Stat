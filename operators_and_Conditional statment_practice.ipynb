{
 "cells": [
  {
   "cell_type": "code",
   "execution_count": 1,
   "id": "7d907378-3384-4050-bd45-73bd465d810d",
   "metadata": {},
   "outputs": [],
   "source": [
    "import keyword"
   ]
  },
  {
   "cell_type": "code",
   "execution_count": 2,
   "id": "88e4f5ba-45b0-499b-a7b2-e985af7c4dc7",
   "metadata": {},
   "outputs": [
    {
     "data": {
      "text/plain": [
       "['False',\n",
       " 'None',\n",
       " 'True',\n",
       " 'and',\n",
       " 'as',\n",
       " 'assert',\n",
       " 'async',\n",
       " 'await',\n",
       " 'break',\n",
       " 'class',\n",
       " 'continue',\n",
       " 'def',\n",
       " 'del',\n",
       " 'elif',\n",
       " 'else',\n",
       " 'except',\n",
       " 'finally',\n",
       " 'for',\n",
       " 'from',\n",
       " 'global',\n",
       " 'if',\n",
       " 'import',\n",
       " 'in',\n",
       " 'is',\n",
       " 'lambda',\n",
       " 'nonlocal',\n",
       " 'not',\n",
       " 'or',\n",
       " 'pass',\n",
       " 'raise',\n",
       " 'return',\n",
       " 'try',\n",
       " 'while',\n",
       " 'with',\n",
       " 'yield']"
      ]
     },
     "execution_count": 2,
     "metadata": {},
     "output_type": "execute_result"
    }
   ],
   "source": [
    "keyword.kwlist"
   ]
  },
  {
   "cell_type": "code",
   "execution_count": 3,
   "id": "4b49a8c6-f8c9-4f3f-ac4c-69c5a78e0e70",
   "metadata": {},
   "outputs": [],
   "source": [
    "var=True"
   ]
  },
  {
   "cell_type": "markdown",
   "id": "68146d86-7c7d-4b0f-b790-12113a816b48",
   "metadata": {},
   "source": [
    "# Data Types"
   ]
  },
  {
   "cell_type": "code",
   "execution_count": 5,
   "id": "702845b0-1bfa-408e-ace9-c51e1bac834f",
   "metadata": {},
   "outputs": [
    {
     "name": "stdout",
     "output_type": "stream",
     "text": [
      "Shreya swami is here\n",
      "Shreya swami is here\n",
      "Shreya swami is here\n",
      "Shreya swami is here\n",
      "Shreya swami is here\n"
     ]
    }
   ],
   "source": [
    "for i in range(0,5):\n",
    "    print(\"Shreya swami is here\")"
   ]
  },
  {
   "cell_type": "code",
   "execution_count": 6,
   "id": "aabd0d06-8330-47a9-bea6-27ef48d0f848",
   "metadata": {},
   "outputs": [
    {
     "data": {
      "text/plain": [
       "(3+4j)"
      ]
     },
     "execution_count": 6,
     "metadata": {},
     "output_type": "execute_result"
    }
   ],
   "source": [
    "a=3+4j\n",
    "a"
   ]
  },
  {
   "cell_type": "code",
   "execution_count": 7,
   "id": "190ec4d4-d5b7-42d1-bc03-dba627bf134a",
   "metadata": {},
   "outputs": [
    {
     "name": "stdout",
     "output_type": "stream",
     "text": [
      "<class 'complex'>\n"
     ]
    }
   ],
   "source": [
    "print(type(a))"
   ]
  },
  {
   "cell_type": "code",
   "execution_count": 8,
   "id": "9f581cb9-2d90-438b-b501-fe6636ef2c8b",
   "metadata": {},
   "outputs": [
    {
     "name": "stdout",
     "output_type": "stream",
     "text": [
      "5\n"
     ]
    }
   ],
   "source": [
    "a=5\n",
    "print(a)"
   ]
  },
  {
   "cell_type": "code",
   "execution_count": 9,
   "id": "5920f8ad-b5e5-4b74-bcf8-63b04ee36e35",
   "metadata": {},
   "outputs": [
    {
     "name": "stdout",
     "output_type": "stream",
     "text": [
      "5.0\n"
     ]
    }
   ],
   "source": [
    "b=float(a)\n",
    "print(b)"
   ]
  },
  {
   "cell_type": "code",
   "execution_count": 10,
   "id": "1f581606-c8dd-4192-94a4-2adcff36fb26",
   "metadata": {},
   "outputs": [
    {
     "name": "stdout",
     "output_type": "stream",
     "text": [
      "(5+0j)\n"
     ]
    }
   ],
   "source": [
    "b=complex(a)\n",
    "print(b)"
   ]
  },
  {
   "cell_type": "code",
   "execution_count": 11,
   "id": "408d8f3b-b1b4-4f1b-942a-3a538d8f55d8",
   "metadata": {},
   "outputs": [
    {
     "name": "stdout",
     "output_type": "stream",
     "text": [
      "(3+4j)\n"
     ]
    }
   ],
   "source": [
    "a=3+4J\n",
    "print(a)"
   ]
  },
  {
   "cell_type": "code",
   "execution_count": 12,
   "id": "e529eea3-f4bf-4393-92a0-181e191c4bab",
   "metadata": {},
   "outputs": [
    {
     "ename": "TypeError",
     "evalue": "int() argument must be a string, a bytes-like object or a real number, not 'complex'",
     "output_type": "error",
     "traceback": [
      "\u001b[1;31m---------------------------------------------------------------------------\u001b[0m",
      "\u001b[1;31mTypeError\u001b[0m                                 Traceback (most recent call last)",
      "Cell \u001b[1;32mIn[12], line 1\u001b[0m\n\u001b[1;32m----> 1\u001b[0m b\u001b[38;5;241m=\u001b[39m\u001b[38;5;28mint\u001b[39m(a)\n\u001b[0;32m      2\u001b[0m \u001b[38;5;28mprint\u001b[39m(b)\n",
      "\u001b[1;31mTypeError\u001b[0m: int() argument must be a string, a bytes-like object or a real number, not 'complex'"
     ]
    }
   ],
   "source": [
    "b=int(a)\n",
    "print(b)"
   ]
  },
  {
   "cell_type": "code",
   "execution_count": 47,
   "id": "897b964d-cb6b-45d7-b8c1-325675a87801",
   "metadata": {},
   "outputs": [],
   "source": [
    "import sys"
   ]
  },
  {
   "cell_type": "code",
   "execution_count": 49,
   "id": "fbf1d7ef-fc3e-44db-9553-dde2f21a5a57",
   "metadata": {},
   "outputs": [
    {
     "name": "stdout",
     "output_type": "stream",
     "text": [
      "Script name: C:\\Users\\Admin\\.jupyter\\New folder\\New folder\\Lib\\site-packages\\ipykernel_launcher.py\n"
     ]
    }
   ],
   "source": [
    "print(\"Script name:\",sys.argv[0])"
   ]
  },
  {
   "cell_type": "code",
   "execution_count": 51,
   "id": "57c6dc1c-58a8-49e8-83af-7647193fa404",
   "metadata": {},
   "outputs": [
    {
     "name": "stdout",
     "output_type": "stream",
     "text": [
      "Command line argument: -f\n"
     ]
    }
   ],
   "source": [
    "print(\"Command line argument:\",sys.argv[1])"
   ]
  },
  {
   "cell_type": "code",
   "execution_count": 53,
   "id": "852efe01-f371-4f47-94ac-9d3caba89464",
   "metadata": {},
   "outputs": [
    {
     "name": "stdout",
     "output_type": "stream",
     "text": [
      "Script name: -f\n"
     ]
    }
   ],
   "source": [
    "print(\"Script name:\",sys.argv[1])"
   ]
  },
  {
   "cell_type": "code",
   "execution_count": 55,
   "id": "8bd06d03-3121-499f-a874-a502acc2cd7d",
   "metadata": {},
   "outputs": [
    {
     "name": "stdout",
     "output_type": "stream",
     "text": [
      "Command line argument: C:\\Users\\Admin\\.jupyter\\New folder\\New folder\\Lib\\site-packages\\ipykernel_launcher.py\n"
     ]
    }
   ],
   "source": [
    "print(\"Command line argument:\",sys.argv[0])"
   ]
  },
  {
   "cell_type": "code",
   "execution_count": 57,
   "id": "782c15c5-28d8-4648-b0a7-72260f3a13f1",
   "metadata": {},
   "outputs": [
    {
     "name": "stdout",
     "output_type": "stream",
     "text": [
      "Command line argument: C:\\Users\\Admin\\AppData\\Roaming\\jupyter\\runtime\\kernel-65205c2a-5dae-426c-a501-8df3bbd5537e.json\n"
     ]
    }
   ],
   "source": [
    "print(\"Command line argument:\",sys.argv[2])"
   ]
  },
  {
   "cell_type": "code",
   "execution_count": 59,
   "id": "b2ac327f-69eb-4757-ba26-4ec7ca8841dc",
   "metadata": {},
   "outputs": [
    {
     "data": {
      "text/plain": [
       "['C:\\\\Users\\\\Admin\\\\.jupyter\\\\New folder\\\\New folder\\\\Lib\\\\site-packages\\\\ipykernel_launcher.py',\n",
       " '-f',\n",
       " 'C:\\\\Users\\\\Admin\\\\AppData\\\\Roaming\\\\jupyter\\\\runtime\\\\kernel-65205c2a-5dae-426c-a501-8df3bbd5537e.json']"
      ]
     },
     "execution_count": 59,
     "metadata": {},
     "output_type": "execute_result"
    }
   ],
   "source": [
    "sys.argv"
   ]
  },
  {
   "cell_type": "markdown",
   "id": "421614ab-f409-4f6b-9034-872653a22d5e",
   "metadata": {},
   "source": [
    "# Operator"
   ]
  },
  {
   "cell_type": "code",
   "execution_count": 61,
   "id": "eb922f3a-ded3-4753-91cb-2cbf2bc45906",
   "metadata": {},
   "outputs": [
    {
     "name": "stdout",
     "output_type": "stream",
     "text": [
      "print the value of a and b: 37\n",
      "print the value of a and b: 27\n",
      "print the value of a and b: 160\n",
      "print the value of a and b: 6.4\n",
      "print the value of a and b: 6\n",
      "print the value of a and b: 33554432\n"
     ]
    }
   ],
   "source": [
    "a=32\n",
    "b=5\n",
    "\n",
    "print(f\"print the value of a and b:\",a+b)\n",
    "print(f\"print the value of a and b:\",a-b)\n",
    "print(f\"print the value of a and b:\",a*b)\n",
    "print(f\"print the value of a and b:\",a/b)\n",
    "print(f\"print the value of a and b:\",a//b)   # Floor divsion :- it used only decimal point.\n",
    "print(f\"print the value of a and b:\",a**b)"
   ]
  },
  {
   "cell_type": "markdown",
   "id": "bdae4fe9-998b-405d-9eab-60ef9105b2ac",
   "metadata": {},
   "source": [
    "# Relational Operator"
   ]
  },
  {
   "cell_type": "code",
   "execution_count": 63,
   "id": "d9498353-8e64-45e8-a4ed-3d2bd1812f2b",
   "metadata": {},
   "outputs": [
    {
     "name": "stdout",
     "output_type": "stream",
     "text": [
      "print the value of a and b: True\n",
      "print the value of a and b: False\n",
      "print the value of a and b: True\n",
      "print the value of a and b: False\n",
      "print the value of a and b: False\n",
      "print the value of a and b: True\n"
     ]
    }
   ],
   "source": [
    "a=32\n",
    "b=5\n",
    "\n",
    "print(f\"print the value of a and b:\",a>b)\n",
    "print(f\"print the value of a and b:\",a<b)\n",
    "print(f\"print the value of a and b:\",a>=b)\n",
    "print(f\"print the value of a and b:\",a<=b)\n",
    "print(f\"print the value of a and b:\",a==b)   \n",
    "print(f\"print the value of a and b:\",a!=b)"
   ]
  },
  {
   "cell_type": "markdown",
   "id": "25b71e98-b8d3-4350-852e-b9609c860096",
   "metadata": {},
   "source": [
    "# Logical Operators"
   ]
  },
  {
   "cell_type": "code",
   "execution_count": 65,
   "id": "9e329571-5480-43e0-8221-6bbd08053d37",
   "metadata": {},
   "outputs": [
    {
     "name": "stdout",
     "output_type": "stream",
     "text": [
      "print the value of a and b: False\n",
      "print the value of a and b: True\n",
      "print the value of a and b: True\n"
     ]
    }
   ],
   "source": [
    "a=32\n",
    "b=5\n",
    "\n",
    "print(f\"print the value of a and b:\",a<b and a>b)\n",
    "print(f\"print the value of a and b:\",a>b or a<b)\n",
    "print(f\"print the value of a and b:\",not (a<b and a>b))"
   ]
  },
  {
   "cell_type": "code",
   "execution_count": 67,
   "id": "4b5f82e2-c1fa-4258-af13-b25887420672",
   "metadata": {},
   "outputs": [
    {
     "name": "stdout",
     "output_type": "stream",
     "text": [
      "4\n"
     ]
    }
   ],
   "source": [
    "print(5&6)"
   ]
  },
  {
   "cell_type": "code",
   "execution_count": 69,
   "id": "7a53b793-e981-4a18-a005-4d6eae9ec2e6",
   "metadata": {},
   "outputs": [
    {
     "name": "stdout",
     "output_type": "stream",
     "text": [
      "7\n"
     ]
    }
   ],
   "source": [
    "print(15>>1)"
   ]
  },
  {
   "cell_type": "code",
   "execution_count": 71,
   "id": "b2ce3e5f-ab9e-46b3-8e9c-8f09f03ed192",
   "metadata": {},
   "outputs": [
    {
     "name": "stdout",
     "output_type": "stream",
     "text": [
      "30\n"
     ]
    }
   ],
   "source": [
    "print(15<<1)"
   ]
  },
  {
   "cell_type": "markdown",
   "id": "c071c149-3bed-4ebb-8e19-4bfe3a2e262f",
   "metadata": {},
   "source": [
    "# Assignment Operators"
   ]
  },
  {
   "cell_type": "code",
   "execution_count": 73,
   "id": "f5a41dc8-5419-47cb-a172-3bf2aaba170d",
   "metadata": {},
   "outputs": [],
   "source": [
    "a=5"
   ]
  },
  {
   "cell_type": "code",
   "execution_count": 75,
   "id": "b42f9505-b21a-4135-bef0-15c7a0fea030",
   "metadata": {},
   "outputs": [
    {
     "data": {
      "text/plain": [
       "5"
      ]
     },
     "execution_count": 75,
     "metadata": {},
     "output_type": "execute_result"
    }
   ],
   "source": [
    "a"
   ]
  },
  {
   "cell_type": "code",
   "execution_count": 83,
   "id": "4494967f-2ace-447d-b6e3-a85690523dce",
   "metadata": {},
   "outputs": [],
   "source": [
    "a=8\n",
    "b=8"
   ]
  },
  {
   "cell_type": "code",
   "execution_count": 85,
   "id": "2343e112-0200-4e38-b5ab-449675ad2f51",
   "metadata": {},
   "outputs": [
    {
     "name": "stdout",
     "output_type": "stream",
     "text": [
      "True\n"
     ]
    }
   ],
   "source": [
    "print(a is b)\n"
   ]
  },
  {
   "cell_type": "code",
   "execution_count": 87,
   "id": "15195c7d-fb29-4b56-8204-3021740032a0",
   "metadata": {},
   "outputs": [
    {
     "name": "stdout",
     "output_type": "stream",
     "text": [
      "False\n"
     ]
    }
   ],
   "source": [
    "print(a is not b)"
   ]
  },
  {
   "cell_type": "code",
   "execution_count": 89,
   "id": "e412d7ae-0dcf-4c55-868a-b6024b9e045c",
   "metadata": {},
   "outputs": [
    {
     "name": "stdout",
     "output_type": "stream",
     "text": [
      "id of a: 140727853333144\n",
      "id of b: 140727853333144\n"
     ]
    }
   ],
   "source": [
    "print(\"id of a:\",id(a))\n",
    "print(\"id of b:\",id(b))"
   ]
  },
  {
   "cell_type": "code",
   "execution_count": 91,
   "id": "33017c28-d7e2-479e-9f3e-52825e57e2e3",
   "metadata": {},
   "outputs": [],
   "source": [
    "a=8\n",
    "b=6"
   ]
  },
  {
   "cell_type": "code",
   "execution_count": 93,
   "id": "04f67aa8-a6f9-4ac2-a7da-e00c3e05fd7f",
   "metadata": {},
   "outputs": [
    {
     "name": "stdout",
     "output_type": "stream",
     "text": [
      "False\n"
     ]
    }
   ],
   "source": [
    "print(a is b)"
   ]
  },
  {
   "cell_type": "code",
   "execution_count": 95,
   "id": "53c55085-caeb-4923-b106-41c0fa764bbd",
   "metadata": {},
   "outputs": [
    {
     "name": "stdout",
     "output_type": "stream",
     "text": [
      "True\n"
     ]
    }
   ],
   "source": [
    "print(a is not b)"
   ]
  },
  {
   "cell_type": "code",
   "execution_count": 97,
   "id": "02deb97d-8886-47c6-8192-cf46e82b9687",
   "metadata": {},
   "outputs": [
    {
     "name": "stdout",
     "output_type": "stream",
     "text": [
      "id of a: 140727853333144\n",
      "id of b: 140727853333080\n"
     ]
    }
   ],
   "source": [
    "print(\"id of a:\",id(a))\n",
    "print(\"id of b:\",id(b))"
   ]
  },
  {
   "cell_type": "markdown",
   "id": "7cde2cbf-fb8e-4407-8362-8206d6ea353a",
   "metadata": {},
   "source": [
    "# If-else statment"
   ]
  },
  {
   "cell_type": "code",
   "execution_count": 99,
   "id": "4f1f56ce-5b81-46db-a622-dd0512cc3885",
   "metadata": {},
   "outputs": [
    {
     "name": "stdin",
     "output_type": "stream",
     "text": [
      "Take a no 3\n"
     ]
    },
    {
     "name": "stdout",
     "output_type": "stream",
     "text": [
      "Odd No\n"
     ]
    }
   ],
   "source": [
    "a=int(input(\"Take a no\"))\n",
    "if a%2==0:\n",
    "    print(\"Even No\")\n",
    "else:\n",
    "    print(\"Odd No\")\n",
    "    \n",
    "    "
   ]
  },
  {
   "cell_type": "code",
   "execution_count": 101,
   "id": "a75870d6-6aaf-42b8-9edb-2c0c61e29042",
   "metadata": {},
   "outputs": [
    {
     "name": "stdin",
     "output_type": "stream",
     "text": [
      "Enter a age 24\n"
     ]
    },
    {
     "name": "stdout",
     "output_type": "stream",
     "text": [
      "we will find a perfect match for you\n"
     ]
    }
   ],
   "source": [
    "age=int(input(\"Enter a age\"))\n",
    "if age<18:\n",
    "    print(\"you are too young to marry\")\n",
    "elif age>60:\n",
    "    print(\"you are too old to marray\")\n",
    "else:\n",
    "    print(\"we will find a perfect match for you\")"
   ]
  },
  {
   "cell_type": "code",
   "execution_count": 103,
   "id": "26c8fa54-02f7-4f7e-a942-69654726da67",
   "metadata": {},
   "outputs": [
    {
     "name": "stdout",
     "output_type": "stream",
     "text": [
      "x is greater than 80\n",
      "x is greater than 90\n"
     ]
    }
   ],
   "source": [
    "x=100\n",
    "\n",
    "if x>80:\n",
    "    print(\"x is greater than 80\")\n",
    "\n",
    "    if x>90:\n",
    "       print(\"x is greater than 90\")\n",
    "\n",
    "else:\n",
    "    print(\"x is less than 80\")\n"
   ]
  },
  {
   "cell_type": "code",
   "execution_count": 105,
   "id": "b595440f-470e-44d7-b94c-e910791acfff",
   "metadata": {},
   "outputs": [
    {
     "name": "stdout",
     "output_type": "stream",
     "text": [
      "Age is 34\n"
     ]
    }
   ],
   "source": [
    "age=34\n",
    "\n",
    "if age == 34:\n",
    "    print(\"Age is 34\")\n"
   ]
  },
  {
   "cell_type": "code",
   "execution_count": null,
   "id": "6671f637-e9f3-412b-bbb8-a4cf8f5f4562",
   "metadata": {},
   "outputs": [],
   "source": [
    "# Short hand "
   ]
  },
  {
   "cell_type": "code",
   "execution_count": 107,
   "id": "7ce41220-2ea4-4f61-9f51-8433ecfbd927",
   "metadata": {},
   "outputs": [
    {
     "name": "stdout",
     "output_type": "stream",
     "text": [
      "age is 34\n"
     ]
    }
   ],
   "source": [
    "if age == 34: print(\"age is 34\")"
   ]
  },
  {
   "cell_type": "code",
   "execution_count": 45,
   "id": "3e95cdcc-59e4-43b2-be6b-b279edfa0b57",
   "metadata": {},
   "outputs": [
    {
     "name": "stdout",
     "output_type": "stream",
     "text": [
      "person having good salary\n"
     ]
    }
   ],
   "source": [
    "salary = 90000\n",
    "\n",
    "print(\"person having good salary\") if salary >70000 else print(\"salary is less than 7000\")"
   ]
  },
  {
   "cell_type": "code",
   "execution_count": 43,
   "id": "d4518832-21dd-4f3b-9896-c235bece5420",
   "metadata": {},
   "outputs": [
    {
     "name": "stdout",
     "output_type": "stream",
     "text": [
      "the person have good salary\n"
     ]
    }
   ],
   "source": [
    "salary = 90000\n",
    "\n",
    "if salary > 70000:\n",
    "    print(\"the person have good salary\")\n",
    "\n",
    "else:\n",
    "    (\"the salary is less than 70000\")"
   ]
  },
  {
   "cell_type": "code",
   "execution_count": 41,
   "id": "b2e377cc-8174-49cf-a4d5-abab441cea01",
   "metadata": {},
   "outputs": [
    {
     "name": "stdout",
     "output_type": "stream",
     "text": [
      "middle age\n"
     ]
    }
   ],
   "source": [
    "age=45\n",
    "print(\"young Age\") if age < 35 else print(\"middle age\")"
   ]
  },
  {
   "cell_type": "code",
   "execution_count": 39,
   "id": "479258c3-f773-4eb3-ac79-f97d7bdfa223",
   "metadata": {},
   "outputs": [
    {
     "name": "stdout",
     "output_type": "stream",
     "text": [
      "younge age\n"
     ]
    }
   ],
   "source": [
    "age=20\n",
    "\n",
    "print(\"younge age\") if age < 24 else print(\"midle age\")"
   ]
  },
  {
   "cell_type": "code",
   "execution_count": 37,
   "id": "e6d6e712-d529-484f-986e-7328bdd9471b",
   "metadata": {},
   "outputs": [
    {
     "name": "stdin",
     "output_type": "stream",
     "text": [
      "enter age  32\n"
     ]
    },
    {
     "name": "stdout",
     "output_type": "stream",
     "text": [
      "Bye\n"
     ]
    }
   ],
   "source": [
    "a=int(input(\"enter age \"))\n",
    "if a%5==0:\n",
    "    print(\"hello\")\n",
    "else:\n",
    "    print(\"Bye\")"
   ]
  },
  {
   "cell_type": "code",
   "execution_count": 33,
   "id": "cec24ca5-3cd3-4ab6-93f9-a6fdd2a34cf7",
   "metadata": {},
   "outputs": [
    {
     "name": "stdin",
     "output_type": "stream",
     "text": [
      "enter a no 55\n"
     ]
    },
    {
     "name": "stdout",
     "output_type": "stream",
     "text": [
      "last  digit of number is 5\n"
     ]
    }
   ],
   "source": [
    "num=int(input(\"enter a no\"))\n",
    "print(\"last  digit of number is\" , num%10)"
   ]
  },
  {
   "cell_type": "code",
   "execution_count": 31,
   "id": "57779fdb-179c-464e-b19a-5c58ddf23a67",
   "metadata": {},
   "outputs": [
    {
     "name": "stdin",
     "output_type": "stream",
     "text": [
      "enter a no 34\n"
     ]
    },
    {
     "name": "stdout",
     "output_type": "stream",
     "text": [
      "last digit of no is not divsible by 3\n"
     ]
    }
   ],
   "source": [
    "a=int(input(\"enter a no\"))\n",
    "z=a%10\n",
    "if z%3==0:\n",
    "    print(\"last digit of number divsible by 3\")\n",
    "else:\n",
    "    print(\"last digit of no is not divsible by 3\")"
   ]
  },
  {
   "cell_type": "code",
   "execution_count": 119,
   "id": "a0d6b275-36c5-4474-be58-a52c93d91645",
   "metadata": {},
   "outputs": [
    {
     "name": "stdin",
     "output_type": "stream",
     "text": [
      "enter a percentage 99\n"
     ]
    },
    {
     "name": "stdout",
     "output_type": "stream",
     "text": [
      "Grade A\n"
     ]
    }
   ],
   "source": [
    "per=int(input(\"enter a percentage\"))\n",
    "if per>90:\n",
    "    print(\"Grade A\")\n",
    "elif per >80 and per<=90:\n",
    "    print(\"Grade B\")\n",
    "elif per >=60 and per<=80:\n",
    "    print(\"Grade C\")\n",
    "else:\n",
    "    print(\" per is below 60 then D\")"
   ]
  },
  {
   "cell_type": "code",
   "execution_count": 151,
   "id": "b67a881b-949a-4aa9-8c27-0fe446cb363f",
   "metadata": {},
   "outputs": [
    {
     "name": "stdin",
     "output_type": "stream",
     "text": [
      "Enter a year 2004\n"
     ]
    },
    {
     "name": "stdout",
     "output_type": "stream",
     "text": [
      "Enter  yr is leap yr\n"
     ]
    }
   ],
   "source": [
    "yr=int(input(\"Enter a year\"))\n",
    "if yr%100==0:\n",
    "    if yr%400==0:\n",
    "        print(\"Enter  yr is leap yr\")\n",
    "    else:\n",
    "        print(\"enter yr is not leap yr\")\n",
    "\n",
    "else:\n",
    "    if yr%4==0:\n",
    "        print(\"Enter  yr is leap yr\")\n",
    "    else:\n",
    "        print(\"enter yr is not leap yr\")"
   ]
  },
  {
   "cell_type": "code",
   "execution_count": 161,
   "id": "d17840e5-df82-4420-81df-8b1537e8eee3",
   "metadata": {},
   "outputs": [
    {
     "name": "stdin",
     "output_type": "stream",
     "text": [
      "Enter a no from week 1 to 7 6\n"
     ]
    },
    {
     "name": "stdout",
     "output_type": "stream",
     "text": [
      "Saturday\n"
     ]
    }
   ],
   "source": [
    "a=int(input(\"Enter a no from week 1 to 7\"))\n",
    "\n",
    "if a==1:\n",
    "    print(\"Monday\")\n",
    "elif a==2:\n",
    "    print(\"Tuesday\")\n",
    "elif a==3:\n",
    "    print(\"Wednesday\")\n",
    "elif a==4:\n",
    "    print(\"Thursday\")\n",
    "elif a==5:\n",
    "    print(\"Friday\")\n",
    "elif a==6:\n",
    "    print(\"Saturday\")\n",
    "elif a==7:\n",
    "    print(\"Sunday\")\n",
    "else:\n",
    "    print(\"please enter no between 1 to 7\")"
   ]
  },
  {
   "cell_type": "code",
   "execution_count": 163,
   "id": "7f040c3d-2bbd-4b03-9645-530fab3bcb3f",
   "metadata": {},
   "outputs": [
    {
     "name": "stdin",
     "output_type": "stream",
     "text": [
      "Enter a age 20\n"
     ]
    },
    {
     "name": "stdout",
     "output_type": "stream",
     "text": [
      "Person is eligible for voting\n"
     ]
    }
   ],
   "source": [
    "age=int(input(\"Enter a age\"))\n",
    "\n",
    "if age >=18:\n",
    "    print(\"Person is eligible for voting\")\n",
    "else:\n",
    "    print(\"Person is not eligible for voting\")"
   ]
  },
  {
   "cell_type": "code",
   "execution_count": 165,
   "id": "b53336ad-f896-45af-9c8c-be72ae530b3f",
   "metadata": {},
   "outputs": [
    {
     "name": "stdin",
     "output_type": "stream",
     "text": [
      "Enter a first no 23\n",
      "Enter a second no 33\n"
     ]
    },
    {
     "name": "stdout",
     "output_type": "stream",
     "text": [
      "smaller no 23\n"
     ]
    }
   ],
   "source": [
    "a1=int(input(\"Enter a first no\"))\n",
    "b1=int(input(\"Enter a second no\"))\n",
    "if a1>b1:\n",
    "    print(\"smaller no\", b1)\n",
    "else:\n",
    "    print(\"smaller no\", a1)"
   ]
  },
  {
   "cell_type": "code",
   "execution_count": 171,
   "id": "0c45c6ad-8d6c-4723-a287-16f6705e83e1",
   "metadata": {},
   "outputs": [
    {
     "name": "stdin",
     "output_type": "stream",
     "text": [
      "Enter a no -9\n"
     ]
    },
    {
     "name": "stdout",
     "output_type": "stream",
     "text": [
      "negative no\n"
     ]
    }
   ],
   "source": [
    "num=int(input(\"Enter a no\"))\n",
    "if num>0:\n",
    "    print(\"positive no\")\n",
    "else:\n",
    "    print(\"negative no\")\n",
    "    "
   ]
  },
  {
   "cell_type": "code",
   "execution_count": 177,
   "id": "5eaa8d65-8d62-4cbd-9354-61d5722ac356",
   "metadata": {},
   "outputs": [
    {
     "name": "stdin",
     "output_type": "stream",
     "text": [
      "enter a no 12\n"
     ]
    },
    {
     "name": "stdout",
     "output_type": "stream",
     "text": [
      "no is divisible by 2 and 3\n"
     ]
    }
   ],
   "source": [
    "a=int(input(\"enter a no\"))\n",
    "if a%2==0 and a%3==0:\n",
    "      print(\"no is divisible by 2 and 3\")\n",
    "else:\n",
    "     print(\"no is not divisible by 2 and 3\")  \n"
   ]
  },
  {
   "cell_type": "code",
   "execution_count": 179,
   "id": "c6d01270-6d1a-4f72-81eb-ab282f0f5829",
   "metadata": {},
   "outputs": [
    {
     "name": "stdin",
     "output_type": "stream",
     "text": [
      "enter a temp of water 200\n"
     ]
    },
    {
     "name": "stdout",
     "output_type": "stream",
     "text": [
      "water is boiling\n"
     ]
    }
   ],
   "source": [
    "temp=int(input(\"enter a temp of water\"))\n",
    "if temp>100:\n",
    "    print(\"water is boiling\")\n",
    "else:\n",
    "    (\"water is not boiling\")"
   ]
  },
  {
   "cell_type": "code",
   "execution_count": null,
   "id": "9e72d2ea-0194-4102-ab2e-19ea23ab88fe",
   "metadata": {},
   "outputs": [],
   "source": []
  }
 ],
 "metadata": {
  "kernelspec": {
   "display_name": "Python 3 (ipykernel)",
   "language": "python",
   "name": "python3"
  },
  "language_info": {
   "codemirror_mode": {
    "name": "ipython",
    "version": 3
   },
   "file_extension": ".py",
   "mimetype": "text/x-python",
   "name": "python",
   "nbconvert_exporter": "python",
   "pygments_lexer": "ipython3",
   "version": "3.12.4"
  }
 },
 "nbformat": 4,
 "nbformat_minor": 5
}
